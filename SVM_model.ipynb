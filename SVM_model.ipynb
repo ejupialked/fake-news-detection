{
 "cells": [
  {
   "cell_type": "markdown",
   "metadata": {},
   "source": [
    "# Import libraries"
   ]
  },
  {
   "cell_type": "code",
   "execution_count": 1,
   "metadata": {},
   "outputs": [],
   "source": [
    "import pandas as pd \n",
    "import string\n",
    "import re \n",
    "import nltk\n",
    "import emoji\n",
    "import numpy\n",
    "import time\n",
    "from sklearn.metrics import f1_score\n",
    "from sklearn.metrics import make_scorer\n",
    "from sklearn.feature_extraction.text import CountVectorizer\n",
    "from sklearn.feature_extraction.text import TfidfVectorizer\n",
    "from sklearn import model_selection, svm\n",
    "from sklearn.preprocessing import LabelEncoder\n",
    "from sklearn.metrics import classification_report, confusion_matrix,f1_score, accuracy_score\n",
    "from sklearn.metrics import confusion_matrix\n",
    "from sklearn.model_selection import GridSearchCV\n",
    "from sklearn.ensemble import RandomForestClassifier\n",
    "from nltk.tokenize import word_tokenize\n",
    "from nltk.stem.porter import PorterStemmer\n",
    "from sklearn.pipeline import Pipeline\n",
    "from sklearn.pipeline import make_pipeline\n",
    "import seaborn as sns\n",
    "import matplotlib.pyplot as plt\n",
    "import np\n",
    "from collections import Counter\n",
    "from textblob import TextBlob \n",
    "from langdetect import detect"
   ]
  },
  {
   "cell_type": "markdown",
   "metadata": {},
   "source": [
    "# Function to generate confusion matrix"
   ]
  },
  {
   "cell_type": "code",
   "execution_count": 2,
   "metadata": {},
   "outputs": [],
   "source": [
    "def make_confusion_matrix(cf, group_names=None, categories='auto', count=True, percent=True, cbar=True, xyticks=True,\n",
    "                          xyplotlabels=True,\n",
    "                          sum_stats=True,\n",
    "                          figsize=None,\n",
    "                          cmap='Blues',\n",
    "                          title=None):\n",
    "\n",
    "    # CODE TO GENERATE TEXT INSIDE EACH SQUARE\n",
    "    blanks = ['' for i in range(cf.size)]\n",
    "\n",
    "    if group_names and len(group_names)==cf.size:\n",
    "        group_labels = [\"{}\\n\".format(value) for value in group_names]\n",
    "    else:\n",
    "        group_labels = blanks\n",
    "\n",
    "    if count:\n",
    "        group_counts = [\"{0:0.0f}\\n\".format(value) for value in cf.flatten()]\n",
    "    else:\n",
    "        group_counts = blanks\n",
    "\n",
    "    if percent:\n",
    "        group_percentages = [\"{0:.2%}\".format(value) for value in cf.flatten()/np.sum(cf)]\n",
    "    else:\n",
    "        group_percentages = blanks\n",
    "\n",
    "    box_labels = [f\"{v1}{v2}{v3}\".strip() for v1, v2, v3 in zip(group_labels,group_counts,group_percentages)]\n",
    "    box_labels = np.asarray(box_labels).reshape(cf.shape[0],cf.shape[1])\n",
    "\n",
    "    # SET FIGURE PARAMETERS ACCORDING TO OTHER ARGUMENTS\n",
    "    if figsize==None:\n",
    "        #Get default figure size if not set\n",
    "        figsize = plt.rcParams.get('figure.figsize')\n",
    "\n",
    "    if xyticks==False:\n",
    "        #Do not show categories if xyticks is False\n",
    "        categories=False\n",
    "\n",
    "    # MAKE THE HEATMAP VISUALIZATION\n",
    "    plt.figure(figsize=figsize)\n",
    "    sns.heatmap(cf,annot=box_labels,fmt=\"\",cmap=cmap,cbar=cbar,xticklabels=categories,yticklabels=categories)\n",
    "    plt.ylabel('True label')\n",
    "    plt.xlabel('Predicted label')\n",
    "    plt.savefig('conf.pdf')  \n",
    "\n",
    "    if title:\n",
    "        plt.title(title)\n",
    "        "
   ]
  },
  {
   "cell_type": "markdown",
   "metadata": {},
   "source": [
    "# Read, clean, prepare dataset"
   ]
  },
  {
   "cell_type": "code",
   "execution_count": 3,
   "metadata": {},
   "outputs": [
    {
     "data": {
      "text/html": [
       "<div>\n",
       "<style scoped>\n",
       "    .dataframe tbody tr th:only-of-type {\n",
       "        vertical-align: middle;\n",
       "    }\n",
       "\n",
       "    .dataframe tbody tr th {\n",
       "        vertical-align: top;\n",
       "    }\n",
       "\n",
       "    .dataframe thead th {\n",
       "        text-align: right;\n",
       "    }\n",
       "</style>\n",
       "<table border=\"1\" class=\"dataframe\">\n",
       "  <thead>\n",
       "    <tr style=\"text-align: right;\">\n",
       "      <th></th>\n",
       "      <th>tweetText</th>\n",
       "      <th>label</th>\n",
       "      <th>preprocessed</th>\n",
       "    </tr>\n",
       "  </thead>\n",
       "  <tbody>\n",
       "    <tr>\n",
       "      <th>0</th>\n",
       "      <td>¿Se acuerdan de la película: “El día después d...</td>\n",
       "      <td>fake</td>\n",
       "      <td>acuerdan película día después mañana recuerda ...</td>\n",
       "    </tr>\n",
       "    <tr>\n",
       "      <th>1</th>\n",
       "      <td>@milenagimon: Miren a Sandy en NY!  Tremenda i...</td>\n",
       "      <td>fake</td>\n",
       "      <td>miren tremenda imagen parece día independencia...</td>\n",
       "    </tr>\n",
       "    <tr>\n",
       "      <th>2</th>\n",
       "      <td>Buena la foto del Huracán Sandy, me recuerda a...</td>\n",
       "      <td>fake</td>\n",
       "      <td>buena foto recuerda película día independencia...</td>\n",
       "    </tr>\n",
       "    <tr>\n",
       "      <th>3</th>\n",
       "      <td>Scary shit #hurricane #NY http://t.co/e4JLBUfH</td>\n",
       "      <td>fake</td>\n",
       "      <td>scary shit</td>\n",
       "    </tr>\n",
       "    <tr>\n",
       "      <th>4</th>\n",
       "      <td>My fave place in the world #nyc #hurricane #sa...</td>\n",
       "      <td>fake</td>\n",
       "      <td>fave place world</td>\n",
       "    </tr>\n",
       "  </tbody>\n",
       "</table>\n",
       "</div>"
      ],
      "text/plain": [
       "                                           tweetText label  \\\n",
       "0  ¿Se acuerdan de la película: “El día después d...  fake   \n",
       "1  @milenagimon: Miren a Sandy en NY!  Tremenda i...  fake   \n",
       "2  Buena la foto del Huracán Sandy, me recuerda a...  fake   \n",
       "3     Scary shit #hurricane #NY http://t.co/e4JLBUfH  fake   \n",
       "4  My fave place in the world #nyc #hurricane #sa...  fake   \n",
       "\n",
       "                                        preprocessed  \n",
       "0  acuerdan película día después mañana recuerda ...  \n",
       "1  miren tremenda imagen parece día independencia...  \n",
       "2  buena foto recuerda película día independencia...  \n",
       "3                                         scary shit  \n",
       "4                                   fave place world  "
      ]
     },
     "execution_count": 3,
     "metadata": {},
     "output_type": "execute_result"
    }
   ],
   "source": [
    "# Read dataset\n",
    "test_tweets = pd.read_csv('mediaeval-2015-testset.txt', sep='\\\\t', engine='python', encoding='utf-8')\n",
    "train_tweets = pd.read_csv('mediaeval-2015-trainingset.txt', sep='\\\\t', engine='python', encoding='utf-8')\n",
    "\n",
    "def removeColumns(tweets):\n",
    "    tweets.drop([\"timestamp\"],axis=1,inplace=True)\n",
    "    tweets.drop([\"username\"],axis=1,inplace=True)\n",
    "    tweets.drop([\"tweetId\"],axis=1,inplace=True)\n",
    "    tweets.drop([\"userId\"],axis=1,inplace=True)\n",
    "    tweets.drop([\"imageId(s)\"],axis=1,inplace=True)\n",
    "\n",
    "# Remove Columns\n",
    "removeColumns(train_tweets)\n",
    "removeColumns(test_tweets)\n",
    "\n",
    "def converHumourLabel(tweets):\n",
    "    tweets.loc[tweets['label'] == 'humor', 'label'] = 'fake'\n",
    "    \n",
    "# Change 'humor' to 'fake'\n",
    "converHumourLabel(train_tweets)\n",
    "converHumourLabel(test_tweets)\n",
    "\n",
    "\n",
    "def englishTweets(tweets):\n",
    "    # Generate lang\n",
    "    ls = [] \n",
    "    for value in tweets[\"preprocessed\"]: \n",
    "        if not (value == \"en\"):\n",
    "            ls.append(detect(str(tweets)))\n",
    "        else:\n",
    "            ls.append(\"ND\")\n",
    "    tweets[\"lang\"] = ls \n",
    "    return tweets\n",
    "\n",
    "def clean(text):\n",
    "    # Remove URLs\n",
    "    tweet =  re.sub(r'http\\S+', '', text)\n",
    "    # Remove mentions\n",
    "    tweet = re.sub(r'@\\w+', '', tweet)\n",
    "    # Remove all the special characters\n",
    "    tweet = re.sub(r'\\W', ' ', tweet)\n",
    "    # Convert to lower case\n",
    "    tweet = tweet.lower()\n",
    "    return tweet\n",
    "\n",
    "\n",
    "# Remove stop words\n",
    "def remove_stopwords(text):\n",
    "    event_words = ['hurricane', 'sochi',\n",
    "                   'soldier', 'hurricanesandy', \n",
    "                   'liberty', 'bringbackourgirls', 'jersey', 'manhattan','flood',\n",
    "                   'nj', 'new', 'nyc', 'ny', 'york', 'statue',\n",
    "                   'statueofliberty', 'shark', 'newyork', \n",
    "                   'tomb',  'mh370', 'sandy', 'huracán', 'boston',  \n",
    "                   'columbianchemicals',\n",
    "                    'flooding', 'cuba']\n",
    "    \n",
    "    twitter = ['via', 'photo', 'rt']\n",
    "    en_stop_words = nltk.corpus.stopwords.words('english')\n",
    "    sp_stop_words = nltk.corpus.stopwords.words('spanish')\n",
    "    stopword = en_stop_words + sp_stop_words + twitter + event_words\n",
    "    text= ' '.join([word for word in text.split() if word not in stopword])\n",
    "    return text\n",
    "\n",
    "def stemming(text):\n",
    "    tokens = word_tokenize(text)\n",
    "    stemmer = PorterStemmer()\n",
    "    stems = [stemmer.stem(w) for w in tokens]\n",
    "    return ' '.join(stems)\n",
    "\n",
    "# Clean text\n",
    "train_tweets['preprocessed'] = train_tweets['tweetText'].apply(clean)\n",
    "test_tweets['preprocessed'] = test_tweets['tweetText'].apply(clean)\n",
    "\n",
    "# train_tweets = englishTweets()\n",
    "\n",
    "    \n",
    "# Remove stopwords\n",
    "train_tweets['preprocessed'] = train_tweets['preprocessed'].apply(remove_stopwords)\n",
    "test_tweets['preprocessed'] = test_tweets['preprocessed'].apply(remove_stopwords)\n",
    "\n",
    "# Perform stemming - ineffective\n",
    "# train_tweets['preprocessed'] = train_tweets['preprocessed'].apply(stemming)\n",
    "# test_tweets['preprocessed'] = test_tweets['preprocessed'].apply(stemming)\n",
    "\n",
    "\n",
    "\n",
    "test_tweets.to_csv('test_tweets.csv')\n",
    "train_tweets.to_csv('train_tweets.csv')\n",
    "\n",
    "train_tweets.head()"
   ]
  },
  {
   "cell_type": "markdown",
   "metadata": {},
   "source": [
    "### Hyperparameter tuning"
   ]
  },
  {
   "cell_type": "code",
   "execution_count": 44,
   "metadata": {
    "scrolled": false
   },
   "outputs": [
    {
     "name": "stdout",
     "output_type": "stream",
     "text": [
      "Performing grid search...\n",
      "pipeline: ['tfidf', 'clf']\n",
      "parameters:\n",
      "{'tfidf__max_features': (3600, 10000)}\n",
      "Fitting 10 folds for each of 2 candidates, totalling 20 fits\n"
     ]
    },
    {
     "name": "stderr",
     "output_type": "stream",
     "text": [
      "[Parallel(n_jobs=-1)]: Using backend LokyBackend with 12 concurrent workers.\n",
      "[Parallel(n_jobs=-1)]: Done  18 out of  20 | elapsed:   14.4s remaining:    1.6s\n",
      "[Parallel(n_jobs=-1)]: Done  20 out of  20 | elapsed:   14.5s finished\n"
     ]
    },
    {
     "name": "stdout",
     "output_type": "stream",
     "text": [
      "done in 19.590s\n",
      "\n",
      "Best score: 0.846\n",
      "Best parameters set:\n",
      "\ttfidf__max_features: 3600\n"
     ]
    }
   ],
   "source": [
    "# Define x and y train and test set\n",
    "x_train = train_tweets['preprocessed']\n",
    "x_test = test_tweets['preprocessed']\n",
    "y_train = train_tweets['label']\n",
    "y_test = test_tweets['label']\n",
    "\n",
    "# classifier\n",
    "pipeline = Pipeline([\n",
    "    ('tfidf', TfidfVectorizer(max_df=0.5, min_df=2, ngram_range=(1,1))),\n",
    "    ('clf', svm.SVC(kernel='linear',C=1.9, gamma='auto')),\n",
    "])\n",
    "\n",
    "parameters = {\n",
    "    'tfidf__max_features': (3600,10000)\n",
    "}\n",
    "\n",
    "f1_scorer = make_scorer(f1_score, average='micro', pos_label=\"fake\")\n",
    "\n",
    "# find the best parameters for both the feature extraction and the\n",
    "# classifier\n",
    "grid_search = GridSearchCV(pipeline, parameters, n_jobs=-1, cv=10 , verbose=1,scoring=f1_scorer)\n",
    "\n",
    "print(\"Performing grid search...\")\n",
    "print(\"pipeline:\", [name for name, _ in pipeline.steps])\n",
    "print(\"parameters:\")\n",
    "print(parameters)\n",
    "t0 = time.time()\n",
    "grid_search.fit(x_train, y_train)\n",
    "print(\"done in %0.3fs\" % (time.time() - t0))\n",
    "print()\n",
    "print(\"Best score: %0.3f\" % grid_search.best_score_)\n",
    "print(\"Best parameters set:\")\n",
    "best_parameters = grid_search.best_estimator_.get_params()\n",
    "for param_name in sorted(parameters.keys()):\n",
    "    print(\"\\t%s: %r\" % (param_name, best_parameters[param_name]))\n",
    "    \n"
   ]
  },
  {
   "cell_type": "code",
   "execution_count": 42,
   "metadata": {},
   "outputs": [
    {
     "name": "stdout",
     "output_type": "stream",
     "text": [
      "micro F1 score: 0.8508331129330866\n"
     ]
    }
   ],
   "source": [
    "predictions = grid_search.predict(x_test)\n",
    "print(\"micro F1 score: \" + str(f1_score(y_test, predictions, average='micro')))"
   ]
  },
  {
   "cell_type": "markdown",
   "metadata": {},
   "source": [
    "## Train and evaluate model"
   ]
  },
  {
   "cell_type": "code",
   "execution_count": 4,
   "metadata": {},
   "outputs": [
    {
     "name": "stdout",
     "output_type": "stream",
     "text": [
      "micro F1-score: 0.8804549061094947\n",
      "macro F1-score: 0.8589963182538833\n"
     ]
    },
    {
     "data": {
      "image/png": "[encoded data removed]",
      "text/plain": [
       "<Figure size 432x288 with 2 Axes>"
      ]
     },
     "metadata": {
      "needs_background": "light"
     },
     "output_type": "display_data"
    }
   ],
   "source": [
    "# Define x and y train and test set\n",
    "x_train = train_tweets['preprocessed']\n",
    "x_test = test_tweets['preprocessed']\n",
    "y_train = train_tweets['label']\n",
    "y_test = test_tweets['label']\n",
    "\n",
    "# TF-IDF vectorizer TfidfVectorizer()\n",
    "# Tfidf_vect = TfidfVectorizer(max_features=3600, min_df=2, max_df=0.5, ngram_range=(1,1))\n",
    "# Tfidf_vect = TfidfVectorizer()\n",
    "\n",
    "# unigrams performs very well\n",
    "# Tfidf_vect = CountVectorizer(max_features=3600, min_df=2, ngram_range=(1,1)) \n",
    "\n",
    "Tfidf_vect = TfidfVectorizer(max_features=3600, min_df=2, max_df=0.5, ngram_range=(1,1))\n",
    "\n",
    "\n",
    "Tfidf_vect.fit(train_tweets['preprocessed'])\n",
    "train_x_tfidf = Tfidf_vect.transform(x_train)\n",
    "test_x_tfidf = Tfidf_vect.transform(x_test)\n",
    "\n",
    "labels = ['True Neg','False Pos','False Neg','True Pos']\n",
    "categories = ['Fake', 'Real']\n",
    "\n",
    "# Classifier - Support Vector Machine\n",
    "SVM = svm.SVC(C=1.9, kernel='linear')\n",
    "SVM.fit(train_x_tfidf, y_train)\n",
    "svm_predictions = SVM.predict(test_x_tfidf)\n",
    "svm_cf_matrix = confusion_matrix(y_test, svm_predictions)\n",
    "\n",
    "make_confusion_matrix(svm_cf_matrix, group_names=labels, categories=categories, cmap='Blues')\n",
    "print(\"micro F1-score: \" + str(f1_score(y_test, svm_predictions, average='micro')))\n",
    "print(\"macro F1-score: \" + str(f1_score(y_test, svm_predictions, average='macro')))\n",
    "\n"
   ]
  }
 ],
 "metadata": {
  "kernelspec": {
   "display_name": "Python 3",
   "language": "python",
   "name": "python3"
  },
  "language_info": {
   "codemirror_mode": {
    "name": "ipython",
    "version": 3
   },
   "file_extension": ".py",
   "mimetype": "text/x-python",
   "name": "python",
   "nbconvert_exporter": "python",
   "pygments_lexer": "ipython3",
   "version": "3.8.2"
  }
 },
 "nbformat": 4,
 "nbformat_minor": 4
}
